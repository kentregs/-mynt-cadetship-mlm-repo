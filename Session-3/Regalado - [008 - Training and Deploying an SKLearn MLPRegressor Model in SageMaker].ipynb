{
 "cells": [
  {
   "cell_type": "code",
   "execution_count": 1,
   "id": "ca4470e1",
   "metadata": {},
   "outputs": [],
   "source": [
    "import pandas as pd\n",
    "import numpy as np"
   ]
  },
  {
   "cell_type": "code",
   "execution_count": 2,
   "id": "d2c0165c",
   "metadata": {},
   "outputs": [],
   "source": [
    "np.set_printoptions(suppress=True, precision=2)\n",
    "pd.set_option('display.float_format', lambda x: '%.2f' % x)"
   ]
  },
  {
   "cell_type": "code",
   "execution_count": 3,
   "id": "be077f02",
   "metadata": {},
   "outputs": [],
   "source": [
    "df = pd.read_csv(\"files/003.csv\")"
   ]
  },
  {
   "cell_type": "code",
   "execution_count": 4,
   "id": "4738ada6",
   "metadata": {},
   "outputs": [],
   "source": [
    "!mkdir -p tmp\n",
    "df.to_csv(\"tmp/training_data.csv\", index=False)"
   ]
  },
  {
   "cell_type": "code",
   "execution_count": 5,
   "id": "4e697444",
   "metadata": {
    "scrolled": true
   },
   "outputs": [
    {
     "name": "stdout",
     "output_type": "stream",
     "text": [
      "target,a,b,c,d,e,f,g,h\n",
      "151400,2,2,3,7,37,0,3,0\n",
      "286000,4,4,6,16,64,0,6,0\n",
      "172200,2,2,4,24,16,2,3,0\n",
      "141400,4,4,4,0,32,1,4,0\n",
      "100800,3,3,4,8,8,0,4,0\n",
      "9600,0,0,0,0,4,0,0,0\n",
      "28800,0,0,0,8,0,0,0,0\n",
      "261800,2,2,2,20,60,5,2,0\n",
      "118800,0,0,0,8,0,0,0,30\n",
      "222000,0,0,0,20,0,0,0,50\n",
      "564400,8,20,20,32,80,5,15,0\n",
      "434400,8,20,20,38,16,10,10,0\n",
      "456000,30,10,10,40,40,0,0,0\n",
      "1028000,40,30,30,100,100,0,0,0\n",
      "120000,0,0,0,0,0,0,0,40\n",
      "240000,0,0,0,0,0,0,0,80\n",
      "216800,20,10,5,0,2,0,0,20\n",
      "274400,20,10,5,4,20,0,0,20\n",
      "302800,30,10,5,2,4,0,0,30\n",
      "418000,30,10,5,10,40,0,0,30\n",
      "303000,0,0,0,50,50,1,0,0\n",
      "393000,0,0,0,100,100,1,0,0\n",
      "634000,10,10,10,80,80,0,10,0\n",
      "374800,0,15,0,80,0,0,8,0\n",
      "380000,20,30,40,0,0,0,0,0\n",
      "604000,50,60,30,0,0,0,0,0\n",
      "224000,10,20,5,20,0,0,0,0\n",
      "340000,10,30,5,40,0,0,0,0\n",
      "28000,0,0,1,0,0,8,0,0\n",
      "302800,4,4,6,14,74,0,6,0\n",
      "572000,8,8,12,32,128,0,12,0\n",
      "344400,4,4,8,48,32,4,6,0\n",
      "282800,8,8,8,0,64,2,8,0\n",
      "201600,6,6,8,16,16,0,8,0\n",
      "19200,0,0,0,0,8,0,0,0\n",
      "57600,0,0,0,16,0,0,0,0\n",
      "523600,4,4,4,40,120,10,4,0\n",
      "237600,0,0,0,16,0,0,0,60\n",
      "444000,0,0,0,40,0,0,0,100\n",
      "1128800,16,40,40,64,160,10,30,0\n",
      "868800,16,40,40,76,32,20,20,0\n",
      "912000,60,20,20,80,80,0,0,0\n",
      "2056000,80,60,60,200,200,0,0,0\n",
      "240000,0,0,0,0,0,0,0,80\n",
      "480000,0,0,0,0,0,0,0,160\n",
      "433600,40,20,10,0,4,0,0,40\n",
      "548800,40,20,10,8,40,0,0,40\n",
      "605600,60,20,10,4,8,0,0,60\n",
      "836000,60,20,10,20,80,0,0,60\n",
      "606000,0,0,0,100,100,2,0,0\n",
      "786000,0,0,0,200,200,2,0,0\n",
      "1268000,20,20,20,160,160,0,20,0\n",
      "749600,0,30,0,160,0,0,16,0\n",
      "760000,40,60,80,0,0,0,0,0\n",
      "1208000,100,120,60,0,0,0,0,0\n",
      "448000,20,40,10,40,0,0,0,0\n",
      "680000,20,60,10,80,0,0,0,0\n",
      "56000,0,0,2,0,0,16,0,0\n",
      "454200,6,6,9,21,111,0,9,0\n",
      "858000,12,12,18,48,192,0,18,0\n",
      "516600,6,6,12,72,48,6,9,0\n",
      "424200,12,12,12,0,96,3,12,0\n",
      "302400,9,9,12,24,24,0,12,0\n",
      "28800,0,0,0,0,12,0,0,0\n",
      "86400,0,0,0,24,0,0,0,0\n",
      "785400,6,6,6,60,180,15,6,0\n",
      "356400,0,0,0,24,0,0,0,90\n",
      "666000,0,0,0,60,0,0,0,150\n",
      "1693200,24,60,60,96,240,15,45,0\n",
      "1303200,24,60,60,114,48,30,30,0\n",
      "1368000,90,30,30,120,120,0,0,0\n",
      "3084000,120,90,90,300,300,0,0,0\n",
      "360000,0,0,0,0,0,0,0,120\n",
      "720000,0,0,0,0,0,0,0,240\n",
      "650400,60,30,15,0,6,0,0,60\n",
      "823200,60,30,15,12,60,0,0,60\n",
      "908400,90,30,15,6,12,0,0,90\n",
      "1254000,90,30,15,30,120,0,0,90\n",
      "909000,0,0,0,150,150,3,0,0\n",
      "1179000,0,0,0,300,300,3,0,0\n",
      "1902000,30,30,30,240,240,0,30,0\n",
      "1124400,0,45,0,240,0,0,24,0\n",
      "1140000,60,90,120,0,0,0,0,0\n",
      "1812000,150,180,90,0,0,0,0,0\n",
      "672000,30,60,15,60,0,0,0,0\n",
      "1020000,30,90,15,120,0,0,0,0\n",
      "84000,0,0,3,0,0,24,0,0\n",
      "315400,8,12,8,8,64,0,5,0\n",
      "430000,10,35,6,20,48,0,8,0\n",
      "95200,1,2,3,2,24,0,2,0\n",
      "84800,1,2,2,4,16,0,4,0\n",
      "280800,3,7,4,40,32,0,0,0\n",
      "216800,3,5,1,36,20,0,0,0\n",
      "156800,7,7,4,6,24,0,0,0\n",
      "306400,0,9,4,55,22,0,0,0\n",
      "74400,5,5,1,2,8,0,0,0\n",
      "250000,5,5,5,25,40,0,0,0\n",
      "143000,5,5,1,15,16,0,1,0\n",
      "36600,0,0,0,0,4,0,0,9\n",
      "23200,0,0,0,1,6,0,2,0\n",
      "30200,0,0,0,3,7,0,1,0\n",
      "240000,25,25,5,0,0,0,0,0\n",
      "428000,40,50,8,0,0,0,0,0\n",
      "630800,16,24,16,16,128,0,10,0\n",
      "860000,20,70,12,40,96,0,16,0\n",
      "190400,2,4,6,4,48,0,4,0\n",
      "169600,2,4,4,8,32,0,8,0\n",
      "561600,6,14,8,80,64,0,0,0\n",
      "433600,6,10,2,72,40,0,0,0\n",
      "313600,14,14,8,12,48,0,0,0\n",
      "612800,0,18,8,110,44,0,0,0\n",
      "148800,10,10,2,4,16,0,0,0\n",
      "500000,10,10,10,50,80,0,0,0\n",
      "286000,10,10,2,30,32,0,2,0\n",
      "73200,0,0,0,0,8,0,0,18\n",
      "46400,0,0,0,2,12,0,4,0\n",
      "60400,0,0,0,6,14,0,2,0\n",
      "480000,50,50,10,0,0,0,0,0\n",
      "856000,80,100,16,0,0,0,0,0\n",
      "946200,24,36,24,24,192,0,15,0\n",
      "1290000,30,105,18,60,144,0,24,0\n",
      "285600,3,6,9,6,72,0,6,0\n",
      "254400,3,6,6,12,48,0,12,0\n",
      "842400,9,21,12,120,96,0,0,0\n",
      "650400,9,15,3,108,60,0,0,0\n",
      "470400,21,21,12,18,72,0,0,0\n",
      "919200,0,27,12,165,66,0,0,0\n",
      "223200,15,15,3,6,24,0,0,0\n",
      "750000,15,15,15,75,120,0,0,0\n",
      "429000,15,15,3,45,48,0,3,0\n",
      "109800,0,0,0,0,12,0,0,27\n",
      "69600,0,0,0,3,18,0,6,0\n",
      "90600,0,0,0,9,21,0,3,0\n",
      "720000,75,75,15,0,0,0,0,0\n",
      "1284000,120,150,24,0,0,0,0,0\n",
      "302800,4,4,6,14,74,0,6,0\n",
      "572000,8,8,12,32,128,0,12,0\n",
      "344400,4,4,8,48,32,4,6,0\n",
      "282800,8,8,8,0,64,2,8,0\n",
      "201600,6,6,8,16,16,0,8,0\n",
      "19200,0,0,0,0,8,0,0,0\n",
      "57600,0,0,0,16,0,0,0,0\n",
      "523600,4,4,4,40,120,10,4,0\n",
      "237600,0,0,0,16,0,0,0,60\n",
      "444000,0,0,0,40,0,0,0,100\n",
      "1128800,16,40,40,64,160,10,30,0\n",
      "868800,16,40,40,76,32,20,20,0\n",
      "912000,60,20,20,80,80,0,0,0\n",
      "2056000,80,60,60,200,200,0,0,0\n",
      "240000,0,0,0,0,0,0,0,80\n",
      "480000,0,0,0,0,0,0,0,160\n",
      "433600,40,20,10,0,4,0,0,40\n",
      "548800,40,20,10,8,40,0,0,40\n",
      "605600,60,20,10,4,8,0,0,60\n",
      "836000,60,20,10,20,80,0,0,60\n",
      "606000,0,0,0,100,100,2,0,0\n",
      "786000,0,0,0,200,200,2,0,0\n",
      "1268000,20,20,20,160,160,0,20,0\n",
      "749600,0,30,0,160,0,0,16,0\n",
      "760000,40,60,80,0,0,0,0,0\n",
      "1208000,100,120,60,0,0,0,0,0\n",
      "448000,20,40,10,40,0,0,0,0\n",
      "680000,20,60,10,80,0,0,0,0\n",
      "56000,0,0,2,0,0,16,0,0\n",
      "605600,8,8,12,28,148,0,12,0\n",
      "1144000,16,16,24,64,256,0,24,0\n",
      "688800,8,8,16,96,64,8,12,0\n",
      "565600,16,16,16,0,128,4,16,0\n",
      "403200,12,12,16,32,32,0,16,0\n",
      "38400,0,0,0,0,16,0,0,0\n",
      "115200,0,0,0,32,0,0,0,0\n",
      "1047200,8,8,8,80,240,20,8,0\n",
      "475200,0,0,0,32,0,0,0,120\n",
      "888000,0,0,0,80,0,0,0,200\n",
      "2257600,32,80,80,128,320,20,60,0\n",
      "1737600,32,80,80,152,64,40,40,0\n",
      "1824000,120,40,40,160,160,0,0,0\n",
      "4112000,160,120,120,400,400,0,0,0\n",
      "480000,0,0,0,0,0,0,0,160\n",
      "960000,0,0,0,0,0,0,0,320\n",
      "867200,80,40,20,0,8,0,0,80\n",
      "1097600,80,40,20,16,80,0,0,80\n",
      "1211200,120,40,20,8,16,0,0,120\n",
      "1672000,120,40,20,40,160,0,0,120\n",
      "1212000,0,0,0,200,200,4,0,0\n",
      "1572000,0,0,0,400,400,4,0,0\n",
      "2536000,40,40,40,320,320,0,40,0\n",
      "1499200,0,60,0,320,0,0,32,0\n",
      "1520000,80,120,160,0,0,0,0,0\n",
      "2416000,200,240,120,0,0,0,0,0\n",
      "896000,40,80,20,80,0,0,0,0\n",
      "1360000,40,120,20,160,0,0,0,0\n",
      "112000,0,0,4,0,0,32,0,0\n",
      "908400,12,12,18,42,222,0,18,0\n",
      "1716000,24,24,36,96,384,0,36,0\n",
      "1033200,12,12,24,144,96,12,18,0\n",
      "848400,24,24,24,0,192,6,24,0\n",
      "604800,18,18,24,48,48,0,24,0\n",
      "57600,0,0,0,0,24,0,0,0\n",
      "172800,0,0,0,48,0,0,0,0\n",
      "1570800,12,12,12,120,360,30,12,0\n",
      "712800,0,0,0,48,0,0,0,180\n",
      "1332000,0,0,0,120,0,0,0,300\n",
      "3386400,48,120,120,192,480,30,90,0\n",
      "2606400,48,120,120,228,96,60,60,0\n",
      "2736000,180,60,60,240,240,0,0,0\n",
      "6168000,240,180,180,600,600,0,0,0\n",
      "720000,0,0,0,0,0,0,0,240\n",
      "1440000,0,0,0,0,0,0,0,480\n",
      "1300800,120,60,30,0,12,0,0,120\n",
      "1646400,120,60,30,24,120,0,0,120\n",
      "1816800,180,60,30,12,24,0,0,180\n",
      "2508000,180,60,30,60,240,0,0,180\n",
      "1818000,0,0,0,300,300,6,0,0\n",
      "2358000,0,0,0,600,600,6,0,0\n",
      "3804000,60,60,60,480,480,0,60,0\n",
      "2248800,0,90,0,480,0,0,48,0\n",
      "2280000,120,180,240,0,0,0,0,0\n",
      "3624000,300,360,180,0,0,0,0,0\n",
      "1344000,60,120,30,120,0,0,0,0\n",
      "2040000,60,180,30,240,0,0,0,0\n",
      "168000,0,0,6,0,0,48,0,0\n",
      "630800,16,24,16,16,128,0,10,0\n",
      "860000,20,70,12,40,96,0,16,0\n",
      "190400,2,4,6,4,48,0,4,0\n",
      "169600,2,4,4,8,32,0,8,0\n",
      "561600,6,14,8,80,64,0,0,0\n",
      "433600,6,10,2,72,40,0,0,0\n",
      "313600,14,14,8,12,48,0,0,0\n",
      "612800,0,18,8,110,44,0,0,0\n",
      "148800,10,10,2,4,16,0,0,0\n",
      "500000,10,10,10,50,80,0,0,0\n",
      "286000,10,10,2,30,32,0,2,0\n",
      "73200,0,0,0,0,8,0,0,18\n",
      "46400,0,0,0,2,12,0,4,0\n",
      "60400,0,0,0,6,14,0,2,0\n",
      "480000,50,50,10,0,0,0,0,0\n",
      "856000,80,100,16,0,0,0,0,0\n",
      "1261600,32,48,32,32,256,0,20,0\n",
      "1720000,40,140,24,80,192,0,32,0\n",
      "380800,4,8,12,8,96,0,8,0\n",
      "339200,4,8,8,16,64,0,16,0\n",
      "1123200,12,28,16,160,128,0,0,0\n",
      "867200,12,20,4,144,80,0,0,0\n",
      "627200,28,28,16,24,96,0,0,0\n",
      "1225600,0,36,16,220,88,0,0,0\n",
      "297600,20,20,4,8,32,0,0,0\n",
      "1000000,20,20,20,100,160,0,0,0\n",
      "572000,20,20,4,60,64,0,4,0\n",
      "146400,0,0,0,0,16,0,0,36\n",
      "92800,0,0,0,4,24,0,8,0\n",
      "120800,0,0,0,12,28,0,4,0\n",
      "960000,100,100,20,0,0,0,0,0\n",
      "1712000,160,200,32,0,0,0,0,0\n",
      "1892400,48,72,48,48,384,0,30,0\n",
      "2580000,60,210,36,120,288,0,48,0\n",
      "571200,6,12,18,12,144,0,12,0\n",
      "508800,6,12,12,24,96,0,24,0\n",
      "1684800,18,42,24,240,192,0,0,0\n",
      "1300800,18,30,6,216,120,0,0,0\n",
      "940800,42,42,24,36,144,0,0,0\n",
      "1838400,0,54,24,330,132,0,0,0\n",
      "446400,30,30,6,12,48,0,0,0\n",
      "1500000,30,30,30,150,240,0,0,0\n",
      "858000,30,30,6,90,96,0,6,0\n",
      "219600,0,0,0,0,24,0,0,54\n",
      "139200,0,0,0,6,36,0,12,0\n",
      "181200,0,0,0,18,42,0,6,0\n",
      "1440000,150,150,30,0,0,0,0,0\n",
      "2568000,240,300,48,0,0,0,0,0\n"
     ]
    }
   ],
   "source": [
    "!cat tmp/training_data.csv"
   ]
  },
  {
   "cell_type": "code",
   "execution_count": 9,
   "id": "14510f77",
   "metadata": {},
   "outputs": [],
   "source": [
    "import sagemaker\n",
    "\n",
    "session = sagemaker.Session()\n",
    "bucket = session.default_bucket()"
   ]
  },
  {
   "cell_type": "code",
   "execution_count": 10,
   "id": "a4f196d5",
   "metadata": {},
   "outputs": [
    {
     "data": {
      "text/plain": [
       "'s3://sagemaker-us-east-1-305262579855/data/training_data.csv'"
      ]
     },
     "execution_count": 10,
     "metadata": {},
     "output_type": "execute_result"
    }
   ],
   "source": [
    "s3_path = session.upload_data(\"tmp/training_data.csv\")\n",
    "s3_path"
   ]
  },
  {
   "cell_type": "code",
   "execution_count": 11,
   "id": "a0796360",
   "metadata": {},
   "outputs": [],
   "source": [
    "from sagemaker.inputs import TrainingInput\n",
    "    \n",
    "train_input = TrainingInput(s3_path, content_type=\"text/csv\")"
   ]
  },
  {
   "cell_type": "code",
   "execution_count": 12,
   "id": "f531d65c",
   "metadata": {
    "scrolled": true
   },
   "outputs": [
    {
     "name": "stdout",
     "output_type": "stream",
     "text": [
      "Requirement already satisfied: sagemaker[local] in /home/ec2-user/anaconda3/envs/python3/lib/python3.6/site-packages (2.42.1)\n",
      "Requirement already satisfied: numpy>=1.9.0 in /home/ec2-user/anaconda3/envs/python3/lib/python3.6/site-packages (from sagemaker[local]) (1.19.5)\n",
      "Requirement already satisfied: attrs in /home/ec2-user/anaconda3/envs/python3/lib/python3.6/site-packages (from sagemaker[local]) (20.3.0)\n",
      "Requirement already satisfied: protobuf3-to-dict>=0.1.5 in /home/ec2-user/anaconda3/envs/python3/lib/python3.6/site-packages (from sagemaker[local]) (0.1.5)\n",
      "Requirement already satisfied: smdebug-rulesconfig==1.0.1 in /home/ec2-user/anaconda3/envs/python3/lib/python3.6/site-packages (from sagemaker[local]) (1.0.1)\n",
      "Requirement already satisfied: importlib-metadata>=1.4.0 in /home/ec2-user/anaconda3/envs/python3/lib/python3.6/site-packages (from sagemaker[local]) (3.7.0)\n",
      "Requirement already satisfied: pandas in /home/ec2-user/anaconda3/envs/python3/lib/python3.6/site-packages (from sagemaker[local]) (1.1.5)\n",
      "Requirement already satisfied: packaging>=20.0 in /home/ec2-user/anaconda3/envs/python3/lib/python3.6/site-packages (from sagemaker[local]) (20.9)\n",
      "Requirement already satisfied: google-pasta in /home/ec2-user/anaconda3/envs/python3/lib/python3.6/site-packages (from sagemaker[local]) (0.2.0)\n",
      "Requirement already satisfied: protobuf>=3.1 in /home/ec2-user/anaconda3/envs/python3/lib/python3.6/site-packages (from sagemaker[local]) (3.15.2)\n",
      "Requirement already satisfied: pathos in /home/ec2-user/anaconda3/envs/python3/lib/python3.6/site-packages (from sagemaker[local]) (0.2.7)\n",
      "Requirement already satisfied: boto3>=1.16.32 in /home/ec2-user/anaconda3/envs/python3/lib/python3.6/site-packages (from sagemaker[local]) (1.17.83)\n",
      "Requirement already satisfied: PyYAML<6,>=5.3 in /home/ec2-user/anaconda3/envs/python3/lib/python3.6/site-packages (from sagemaker[local]) (5.4.1)\n",
      "Requirement already satisfied: urllib3!=1.25,!=1.25.1,>=1.21.1 in /home/ec2-user/anaconda3/envs/python3/lib/python3.6/site-packages (from sagemaker[local]) (1.26.5)\n",
      "Requirement already satisfied: docker-compose>=1.25.2 in /home/ec2-user/anaconda3/envs/python3/lib/python3.6/site-packages (from sagemaker[local]) (1.29.2)\n",
      "Requirement already satisfied: botocore<1.21.0,>=1.20.83 in /home/ec2-user/anaconda3/envs/python3/lib/python3.6/site-packages (from boto3>=1.16.32->sagemaker[local]) (1.20.83)\n",
      "Requirement already satisfied: jmespath<1.0.0,>=0.7.1 in /home/ec2-user/anaconda3/envs/python3/lib/python3.6/site-packages (from boto3>=1.16.32->sagemaker[local]) (0.10.0)\n",
      "Requirement already satisfied: s3transfer<0.5.0,>=0.4.0 in /home/ec2-user/anaconda3/envs/python3/lib/python3.6/site-packages (from boto3>=1.16.32->sagemaker[local]) (0.4.2)\n",
      "Requirement already satisfied: python-dateutil<3.0.0,>=2.1 in /home/ec2-user/anaconda3/envs/python3/lib/python3.6/site-packages (from botocore<1.21.0,>=1.20.83->boto3>=1.16.32->sagemaker[local]) (2.8.1)\n",
      "Requirement already satisfied: cached-property<2,>=1.2.0 in /home/ec2-user/anaconda3/envs/python3/lib/python3.6/site-packages (from docker-compose>=1.25.2->sagemaker[local]) (1.5.1)\n",
      "Requirement already satisfied: docopt<1,>=0.6.1 in /home/ec2-user/anaconda3/envs/python3/lib/python3.6/site-packages (from docker-compose>=1.25.2->sagemaker[local]) (0.6.2)\n",
      "Requirement already satisfied: jsonschema<4,>=2.5.1 in /home/ec2-user/anaconda3/envs/python3/lib/python3.6/site-packages (from docker-compose>=1.25.2->sagemaker[local]) (3.2.0)\n",
      "Requirement already satisfied: distro<2,>=1.5.0 in /home/ec2-user/anaconda3/envs/python3/lib/python3.6/site-packages (from docker-compose>=1.25.2->sagemaker[local]) (1.5.0)\n",
      "Requirement already satisfied: requests<3,>=2.20.0 in /home/ec2-user/anaconda3/envs/python3/lib/python3.6/site-packages (from docker-compose>=1.25.2->sagemaker[local]) (2.25.1)\n",
      "Requirement already satisfied: websocket-client<1,>=0.32.0 in /home/ec2-user/anaconda3/envs/python3/lib/python3.6/site-packages (from docker-compose>=1.25.2->sagemaker[local]) (0.59.0)\n",
      "Requirement already satisfied: docker[ssh]>=5 in /home/ec2-user/anaconda3/envs/python3/lib/python3.6/site-packages (from docker-compose>=1.25.2->sagemaker[local]) (5.0.0)\n",
      "Requirement already satisfied: texttable<2,>=0.9.0 in /home/ec2-user/anaconda3/envs/python3/lib/python3.6/site-packages (from docker-compose>=1.25.2->sagemaker[local]) (1.6.3)\n",
      "Requirement already satisfied: dockerpty<1,>=0.4.1 in /home/ec2-user/anaconda3/envs/python3/lib/python3.6/site-packages (from docker-compose>=1.25.2->sagemaker[local]) (0.4.1)\n",
      "Requirement already satisfied: python-dotenv<1,>=0.13.0 in /home/ec2-user/anaconda3/envs/python3/lib/python3.6/site-packages (from docker-compose>=1.25.2->sagemaker[local]) (0.17.1)\n",
      "Requirement already satisfied: paramiko>=2.4.2 in /home/ec2-user/anaconda3/envs/python3/lib/python3.6/site-packages (from docker[ssh]>=5->docker-compose>=1.25.2->sagemaker[local]) (2.7.2)\n",
      "Requirement already satisfied: six>=1.3.0 in /home/ec2-user/anaconda3/envs/python3/lib/python3.6/site-packages (from dockerpty<1,>=0.4.1->docker-compose>=1.25.2->sagemaker[local]) (1.15.0)\n",
      "Requirement already satisfied: typing-extensions>=3.6.4 in /home/ec2-user/anaconda3/envs/python3/lib/python3.6/site-packages (from importlib-metadata>=1.4.0->sagemaker[local]) (3.7.4.3)\n",
      "Requirement already satisfied: zipp>=0.5 in /home/ec2-user/anaconda3/envs/python3/lib/python3.6/site-packages (from importlib-metadata>=1.4.0->sagemaker[local]) (3.4.0)\n",
      "Requirement already satisfied: setuptools in /home/ec2-user/anaconda3/envs/python3/lib/python3.6/site-packages (from jsonschema<4,>=2.5.1->docker-compose>=1.25.2->sagemaker[local]) (49.6.0.post20210108)\n",
      "Requirement already satisfied: pyrsistent>=0.14.0 in /home/ec2-user/anaconda3/envs/python3/lib/python3.6/site-packages (from jsonschema<4,>=2.5.1->docker-compose>=1.25.2->sagemaker[local]) (0.17.3)\n",
      "Requirement already satisfied: pyparsing>=2.0.2 in /home/ec2-user/anaconda3/envs/python3/lib/python3.6/site-packages (from packaging>=20.0->sagemaker[local]) (2.4.7)\n",
      "Requirement already satisfied: bcrypt>=3.1.3 in /home/ec2-user/anaconda3/envs/python3/lib/python3.6/site-packages (from paramiko>=2.4.2->docker[ssh]>=5->docker-compose>=1.25.2->sagemaker[local]) (3.2.0)\n",
      "Requirement already satisfied: cryptography>=2.5 in /home/ec2-user/anaconda3/envs/python3/lib/python3.6/site-packages (from paramiko>=2.4.2->docker[ssh]>=5->docker-compose>=1.25.2->sagemaker[local]) (3.4.4)\n",
      "Requirement already satisfied: pynacl>=1.0.1 in /home/ec2-user/anaconda3/envs/python3/lib/python3.6/site-packages (from paramiko>=2.4.2->docker[ssh]>=5->docker-compose>=1.25.2->sagemaker[local]) (1.4.0)\n",
      "Requirement already satisfied: cffi>=1.1 in /home/ec2-user/anaconda3/envs/python3/lib/python3.6/site-packages (from bcrypt>=3.1.3->paramiko>=2.4.2->docker[ssh]>=5->docker-compose>=1.25.2->sagemaker[local]) (1.14.5)\n",
      "Requirement already satisfied: pycparser in /home/ec2-user/anaconda3/envs/python3/lib/python3.6/site-packages (from cffi>=1.1->bcrypt>=3.1.3->paramiko>=2.4.2->docker[ssh]>=5->docker-compose>=1.25.2->sagemaker[local]) (2.20)\n",
      "Requirement already satisfied: chardet<5,>=3.0.2 in /home/ec2-user/anaconda3/envs/python3/lib/python3.6/site-packages (from requests<3,>=2.20.0->docker-compose>=1.25.2->sagemaker[local]) (3.0.4)\n",
      "Requirement already satisfied: idna<3,>=2.5 in /home/ec2-user/anaconda3/envs/python3/lib/python3.6/site-packages (from requests<3,>=2.20.0->docker-compose>=1.25.2->sagemaker[local]) (2.10)\n",
      "Requirement already satisfied: certifi>=2017.4.17 in /home/ec2-user/anaconda3/envs/python3/lib/python3.6/site-packages (from requests<3,>=2.20.0->docker-compose>=1.25.2->sagemaker[local]) (2020.12.5)\n",
      "Requirement already satisfied: pytz>=2017.2 in /home/ec2-user/anaconda3/envs/python3/lib/python3.6/site-packages (from pandas->sagemaker[local]) (2021.1)\n",
      "Requirement already satisfied: ppft>=1.6.6.3 in /home/ec2-user/anaconda3/envs/python3/lib/python3.6/site-packages (from pathos->sagemaker[local]) (1.6.6.3)\n",
      "Requirement already satisfied: dill>=0.3.3 in /home/ec2-user/anaconda3/envs/python3/lib/python3.6/site-packages (from pathos->sagemaker[local]) (0.3.3)\n",
      "Requirement already satisfied: pox>=0.2.9 in /home/ec2-user/anaconda3/envs/python3/lib/python3.6/site-packages (from pathos->sagemaker[local]) (0.2.9)\n",
      "Requirement already satisfied: multiprocess>=0.70.11 in /home/ec2-user/anaconda3/envs/python3/lib/python3.6/site-packages (from pathos->sagemaker[local]) (0.70.11.1)\n"
     ]
    }
   ],
   "source": [
    "!pip install 'sagemaker[local]' --upgrade"
   ]
  },
  {
   "cell_type": "code",
   "execution_count": 13,
   "id": "69bb9d6d",
   "metadata": {},
   "outputs": [
    {
     "name": "stdout",
     "output_type": "stream",
     "text": [
      "Stopping docker: \u001b[60G[\u001b[0;32m  OK  \u001b[0;39m]\n",
      "Starting docker:\t.\u001b[60G[\u001b[0;32m  OK  \u001b[0;39m]\n"
     ]
    }
   ],
   "source": [
    "!sudo service docker restart"
   ]
  },
  {
   "cell_type": "code",
   "execution_count": 14,
   "id": "91629aac",
   "metadata": {},
   "outputs": [],
   "source": [
    "import os\n",
    "import sagemaker\n",
    "from sagemaker import get_execution_role\n",
    "from sagemaker.local import LocalSession\n",
    "\n",
    "sagemaker_session = LocalSession()\n",
    "sagemaker_session.config = {'local': {'local_code': True}}\n",
    "\n",
    "role = get_execution_role()"
   ]
  },
  {
   "cell_type": "code",
   "execution_count": 15,
   "id": "4b7c3638",
   "metadata": {},
   "outputs": [],
   "source": [
    "from sagemaker.sklearn.estimator import SKLearn\n",
    "\n",
    "estimator = SKLearn(entry_point='scripts/sklearn_script.py',\n",
    "                    session=sagemaker_session,\n",
    "                    role=role,\n",
    "                    instance_type='local',\n",
    "                    instance_count=1,\n",
    "                    py_version='py3',\n",
    "                    framework_version='0.20.0')"
   ]
  },
  {
   "cell_type": "code",
   "execution_count": 16,
   "id": "0bf2929e",
   "metadata": {},
   "outputs": [
    {
     "data": {
      "text/plain": [
       "<sagemaker.inputs.TrainingInput at 0x7f39780f7c88>"
      ]
     },
     "execution_count": 16,
     "metadata": {},
     "output_type": "execute_result"
    }
   ],
   "source": [
    "train_input"
   ]
  },
  {
   "cell_type": "code",
   "execution_count": 17,
   "id": "b3d11fc0",
   "metadata": {
    "scrolled": true
   },
   "outputs": [
    {
     "name": "stdout",
     "output_type": "stream",
     "text": [
      "Creating jpire2avrs-algo-1-2kyva ... \n",
      "Creating jpire2avrs-algo-1-2kyva ... done\n",
      "Attaching to jpire2avrs-algo-1-2kyva\n",
      "\u001b[36mjpire2avrs-algo-1-2kyva |\u001b[0m 2021-06-05 07:49:08,978 sagemaker-containers INFO     Imported framework sagemaker_sklearn_container.training\n",
      "\u001b[36mjpire2avrs-algo-1-2kyva |\u001b[0m 2021-06-05 07:49:08,982 sagemaker-training-toolkit INFO     No GPUs detected (normal if no gpus installed)\n",
      "\u001b[36mjpire2avrs-algo-1-2kyva |\u001b[0m 2021-06-05 07:49:08,993 sagemaker_sklearn_container.training INFO     Invoking user training script.\n",
      "\u001b[36mjpire2avrs-algo-1-2kyva |\u001b[0m 2021-06-05 07:49:09,177 sagemaker-training-toolkit INFO     No GPUs detected (normal if no gpus installed)\n",
      "\u001b[36mjpire2avrs-algo-1-2kyva |\u001b[0m 2021-06-05 07:49:09,192 sagemaker-training-toolkit INFO     No GPUs detected (normal if no gpus installed)\n",
      "\u001b[36mjpire2avrs-algo-1-2kyva |\u001b[0m 2021-06-05 07:49:09,209 sagemaker-training-toolkit INFO     No GPUs detected (normal if no gpus installed)\n",
      "\u001b[36mjpire2avrs-algo-1-2kyva |\u001b[0m 2021-06-05 07:49:09,221 sagemaker-training-toolkit INFO     Invoking user script\n",
      "\u001b[36mjpire2avrs-algo-1-2kyva |\u001b[0m \n",
      "\u001b[36mjpire2avrs-algo-1-2kyva |\u001b[0m Training Env:\n",
      "\u001b[36mjpire2avrs-algo-1-2kyva |\u001b[0m \n",
      "\u001b[36mjpire2avrs-algo-1-2kyva |\u001b[0m {\n",
      "\u001b[36mjpire2avrs-algo-1-2kyva |\u001b[0m     \"additional_framework_parameters\": {},\n",
      "\u001b[36mjpire2avrs-algo-1-2kyva |\u001b[0m     \"channel_input_dirs\": {\n",
      "\u001b[36mjpire2avrs-algo-1-2kyva |\u001b[0m         \"train\": \"/opt/ml/input/data/train\"\n",
      "\u001b[36mjpire2avrs-algo-1-2kyva |\u001b[0m     },\n",
      "\u001b[36mjpire2avrs-algo-1-2kyva |\u001b[0m     \"current_host\": \"algo-1-2kyva\",\n",
      "\u001b[36mjpire2avrs-algo-1-2kyva |\u001b[0m     \"framework_module\": \"sagemaker_sklearn_container.training:main\",\n",
      "\u001b[36mjpire2avrs-algo-1-2kyva |\u001b[0m     \"hosts\": [\n",
      "\u001b[36mjpire2avrs-algo-1-2kyva |\u001b[0m         \"algo-1-2kyva\"\n",
      "\u001b[36mjpire2avrs-algo-1-2kyva |\u001b[0m     ],\n",
      "\u001b[36mjpire2avrs-algo-1-2kyva |\u001b[0m     \"hyperparameters\": {},\n",
      "\u001b[36mjpire2avrs-algo-1-2kyva |\u001b[0m     \"input_config_dir\": \"/opt/ml/input/config\",\n",
      "\u001b[36mjpire2avrs-algo-1-2kyva |\u001b[0m     \"input_data_config\": {\n",
      "\u001b[36mjpire2avrs-algo-1-2kyva |\u001b[0m         \"train\": {\n",
      "\u001b[36mjpire2avrs-algo-1-2kyva |\u001b[0m             \"TrainingInputMode\": \"File\",\n",
      "\u001b[36mjpire2avrs-algo-1-2kyva |\u001b[0m             \"ContentType\": \"text/csv\"\n",
      "\u001b[36mjpire2avrs-algo-1-2kyva |\u001b[0m         }\n",
      "\u001b[36mjpire2avrs-algo-1-2kyva |\u001b[0m     },\n",
      "\u001b[36mjpire2avrs-algo-1-2kyva |\u001b[0m     \"input_dir\": \"/opt/ml/input\",\n",
      "\u001b[36mjpire2avrs-algo-1-2kyva |\u001b[0m     \"is_master\": true,\n",
      "\u001b[36mjpire2avrs-algo-1-2kyva |\u001b[0m     \"job_name\": \"sagemaker-scikit-learn-2021-06-05-07-47-51-040\",\n",
      "\u001b[36mjpire2avrs-algo-1-2kyva |\u001b[0m     \"log_level\": 20,\n",
      "\u001b[36mjpire2avrs-algo-1-2kyva |\u001b[0m     \"master_hostname\": \"algo-1-2kyva\",\n",
      "\u001b[36mjpire2avrs-algo-1-2kyva |\u001b[0m     \"model_dir\": \"/opt/ml/model\",\n",
      "\u001b[36mjpire2avrs-algo-1-2kyva |\u001b[0m     \"module_dir\": \"s3://sagemaker-us-east-1-305262579855/sagemaker-scikit-learn-2021-06-05-07-47-51-040/source/sourcedir.tar.gz\",\n",
      "\u001b[36mjpire2avrs-algo-1-2kyva |\u001b[0m     \"module_name\": \"sklearn_script\",\n",
      "\u001b[36mjpire2avrs-algo-1-2kyva |\u001b[0m     \"network_interface_name\": \"eth0\",\n",
      "\u001b[36mjpire2avrs-algo-1-2kyva |\u001b[0m     \"num_cpus\": 2,\n",
      "\u001b[36mjpire2avrs-algo-1-2kyva |\u001b[0m     \"num_gpus\": 0,\n",
      "\u001b[36mjpire2avrs-algo-1-2kyva |\u001b[0m     \"output_data_dir\": \"/opt/ml/output/data\",\n",
      "\u001b[36mjpire2avrs-algo-1-2kyva |\u001b[0m     \"output_dir\": \"/opt/ml/output\",\n",
      "\u001b[36mjpire2avrs-algo-1-2kyva |\u001b[0m     \"output_intermediate_dir\": \"/opt/ml/output/intermediate\",\n",
      "\u001b[36mjpire2avrs-algo-1-2kyva |\u001b[0m     \"resource_config\": {\n",
      "\u001b[36mjpire2avrs-algo-1-2kyva |\u001b[0m         \"current_host\": \"algo-1-2kyva\",\n",
      "\u001b[36mjpire2avrs-algo-1-2kyva |\u001b[0m         \"hosts\": [\n",
      "\u001b[36mjpire2avrs-algo-1-2kyva |\u001b[0m             \"algo-1-2kyva\"\n",
      "\u001b[36mjpire2avrs-algo-1-2kyva |\u001b[0m         ]\n",
      "\u001b[36mjpire2avrs-algo-1-2kyva |\u001b[0m     },\n",
      "\u001b[36mjpire2avrs-algo-1-2kyva |\u001b[0m     \"user_entry_point\": \"sklearn_script.py\"\n",
      "\u001b[36mjpire2avrs-algo-1-2kyva |\u001b[0m }\n",
      "\u001b[36mjpire2avrs-algo-1-2kyva |\u001b[0m \n",
      "\u001b[36mjpire2avrs-algo-1-2kyva |\u001b[0m Environment variables:\n",
      "\u001b[36mjpire2avrs-algo-1-2kyva |\u001b[0m \n",
      "\u001b[36mjpire2avrs-algo-1-2kyva |\u001b[0m SM_HOSTS=[\"algo-1-2kyva\"]\n",
      "\u001b[36mjpire2avrs-algo-1-2kyva |\u001b[0m SM_NETWORK_INTERFACE_NAME=eth0\n",
      "\u001b[36mjpire2avrs-algo-1-2kyva |\u001b[0m SM_HPS={}\n",
      "\u001b[36mjpire2avrs-algo-1-2kyva |\u001b[0m SM_USER_ENTRY_POINT=sklearn_script.py\n",
      "\u001b[36mjpire2avrs-algo-1-2kyva |\u001b[0m SM_FRAMEWORK_PARAMS={}\n",
      "\u001b[36mjpire2avrs-algo-1-2kyva |\u001b[0m SM_RESOURCE_CONFIG={\"current_host\":\"algo-1-2kyva\",\"hosts\":[\"algo-1-2kyva\"]}\n",
      "\u001b[36mjpire2avrs-algo-1-2kyva |\u001b[0m SM_INPUT_DATA_CONFIG={\"train\":{\"ContentType\":\"text/csv\",\"TrainingInputMode\":\"File\"}}\n",
      "\u001b[36mjpire2avrs-algo-1-2kyva |\u001b[0m SM_OUTPUT_DATA_DIR=/opt/ml/output/data\n",
      "\u001b[36mjpire2avrs-algo-1-2kyva |\u001b[0m SM_CHANNELS=[\"train\"]\n",
      "\u001b[36mjpire2avrs-algo-1-2kyva |\u001b[0m SM_CURRENT_HOST=algo-1-2kyva\n",
      "\u001b[36mjpire2avrs-algo-1-2kyva |\u001b[0m SM_MODULE_NAME=sklearn_script\n",
      "\u001b[36mjpire2avrs-algo-1-2kyva |\u001b[0m SM_LOG_LEVEL=20\n",
      "\u001b[36mjpire2avrs-algo-1-2kyva |\u001b[0m SM_FRAMEWORK_MODULE=sagemaker_sklearn_container.training:main\n",
      "\u001b[36mjpire2avrs-algo-1-2kyva |\u001b[0m SM_INPUT_DIR=/opt/ml/input\n",
      "\u001b[36mjpire2avrs-algo-1-2kyva |\u001b[0m SM_INPUT_CONFIG_DIR=/opt/ml/input/config\n",
      "\u001b[36mjpire2avrs-algo-1-2kyva |\u001b[0m SM_OUTPUT_DIR=/opt/ml/output\n",
      "\u001b[36mjpire2avrs-algo-1-2kyva |\u001b[0m SM_NUM_CPUS=2\n",
      "\u001b[36mjpire2avrs-algo-1-2kyva |\u001b[0m SM_NUM_GPUS=0\n",
      "\u001b[36mjpire2avrs-algo-1-2kyva |\u001b[0m SM_MODEL_DIR=/opt/ml/model\n",
      "\u001b[36mjpire2avrs-algo-1-2kyva |\u001b[0m SM_MODULE_DIR=s3://sagemaker-us-east-1-305262579855/sagemaker-scikit-learn-2021-06-05-07-47-51-040/source/sourcedir.tar.gz\n",
      "\u001b[36mjpire2avrs-algo-1-2kyva |\u001b[0m SM_TRAINING_ENV={\"additional_framework_parameters\":{},\"channel_input_dirs\":{\"train\":\"/opt/ml/input/data/train\"},\"current_host\":\"algo-1-2kyva\",\"framework_module\":\"sagemaker_sklearn_container.training:main\",\"hosts\":[\"algo-1-2kyva\"],\"hyperparameters\":{},\"input_config_dir\":\"/opt/ml/input/config\",\"input_data_config\":{\"train\":{\"ContentType\":\"text/csv\",\"TrainingInputMode\":\"File\"}},\"input_dir\":\"/opt/ml/input\",\"is_master\":true,\"job_name\":\"sagemaker-scikit-learn-2021-06-05-07-47-51-040\",\"log_level\":20,\"master_hostname\":\"algo-1-2kyva\",\"model_dir\":\"/opt/ml/model\",\"module_dir\":\"s3://sagemaker-us-east-1-305262579855/sagemaker-scikit-learn-2021-06-05-07-47-51-040/source/sourcedir.tar.gz\",\"module_name\":\"sklearn_script\",\"network_interface_name\":\"eth0\",\"num_cpus\":2,\"num_gpus\":0,\"output_data_dir\":\"/opt/ml/output/data\",\"output_dir\":\"/opt/ml/output\",\"output_intermediate_dir\":\"/opt/ml/output/intermediate\",\"resource_config\":{\"current_host\":\"algo-1-2kyva\",\"hosts\":[\"algo-1-2kyva\"]},\"user_entry_point\":\"sklearn_script.py\"}\n",
      "\u001b[36mjpire2avrs-algo-1-2kyva |\u001b[0m SM_USER_ARGS=[]\n",
      "\u001b[36mjpire2avrs-algo-1-2kyva |\u001b[0m SM_OUTPUT_INTERMEDIATE_DIR=/opt/ml/output/intermediate\n",
      "\u001b[36mjpire2avrs-algo-1-2kyva |\u001b[0m SM_CHANNEL_TRAIN=/opt/ml/input/data/train\n",
      "\u001b[36mjpire2avrs-algo-1-2kyva |\u001b[0m PYTHONPATH=/opt/ml/code:/miniconda3/bin:/miniconda3/lib/python37.zip:/miniconda3/lib/python3.7:/miniconda3/lib/python3.7/lib-dynload:/miniconda3/lib/python3.7/site-packages\n",
      "\u001b[36mjpire2avrs-algo-1-2kyva |\u001b[0m \n",
      "\u001b[36mjpire2avrs-algo-1-2kyva |\u001b[0m Invoking script with the following command:\n",
      "\u001b[36mjpire2avrs-algo-1-2kyva |\u001b[0m \n",
      "\u001b[36mjpire2avrs-algo-1-2kyva |\u001b[0m /miniconda3/bin/python sklearn_script.py\n",
      "\u001b[36mjpire2avrs-algo-1-2kyva |\u001b[0m \n",
      "\u001b[36mjpire2avrs-algo-1-2kyva |\u001b[0m \n",
      "\u001b[36mjpire2avrs-algo-1-2kyva |\u001b[0m /miniconda3/lib/python3.7/site-packages/sklearn/externals/joblib/externals/cloudpickle/cloudpickle.py:47: DeprecationWarning: the imp module is deprecated in favour of importlib; see the module's documentation for alternative uses\n",
      "\u001b[36mjpire2avrs-algo-1-2kyva |\u001b[0m   import imp\n",
      "\u001b[36mjpire2avrs-algo-1-2kyva |\u001b[0m /miniconda3/lib/python3.7/site-packages/sklearn/neural_network/multilayer_perceptron.py:1316: DataConversionWarning: A column-vector y was passed when a 1d array was expected. Please change the shape of y to (n_samples, ), for example using ravel().\n",
      "\u001b[36mjpire2avrs-algo-1-2kyva |\u001b[0m   y = column_or_1d(y, warn=True)\n",
      "\u001b[36mjpire2avrs-algo-1-2kyva |\u001b[0m MLPRegressor(activation='relu', alpha=0.0001, batch_size='auto', beta_1=0.9,\n",
      "\u001b[36mjpire2avrs-algo-1-2kyva |\u001b[0m        beta_2=0.999, early_stopping=False, epsilon=1e-08,\n",
      "\u001b[36mjpire2avrs-algo-1-2kyva |\u001b[0m        hidden_layer_sizes=14, learning_rate='constant',\n",
      "\u001b[36mjpire2avrs-algo-1-2kyva |\u001b[0m        learning_rate_init=0.001, max_iter=100000000, momentum=0.9,\n",
      "\u001b[36mjpire2avrs-algo-1-2kyva |\u001b[0m        n_iter_no_change=10, nesterovs_momentum=True, power_t=0.5,\n",
      "\u001b[36mjpire2avrs-algo-1-2kyva |\u001b[0m        random_state=None, shuffle=True, solver='adam', tol=0.0001,\n",
      "\u001b[36mjpire2avrs-algo-1-2kyva |\u001b[0m        validation_fraction=0.1, verbose=False, warm_start=False)\n",
      "\u001b[36mjpire2avrs-algo-1-2kyva |\u001b[0m /miniconda3/lib/python3.7/site-packages/sklearn/externals/joblib/numpy_pickle.py:104: DeprecationWarning: tostring() is deprecated. Use tobytes() instead.\n",
      "\u001b[36mjpire2avrs-algo-1-2kyva |\u001b[0m   pickler.file_handle.write(chunk.tostring('C'))\n",
      "\u001b[36mjpire2avrs-algo-1-2kyva |\u001b[0m /miniconda3/lib/python3.7/site-packages/sklearn/externals/joblib/numpy_pickle.py:104: DeprecationWarning: tostring() is deprecated. Use tobytes() instead.\n",
      "\u001b[36mjpire2avrs-algo-1-2kyva |\u001b[0m   pickler.file_handle.write(chunk.tostring('C'))\n",
      "\u001b[36mjpire2avrs-algo-1-2kyva |\u001b[0m /miniconda3/lib/python3.7/site-packages/sklearn/externals/joblib/numpy_pickle.py:104: DeprecationWarning: tostring() is deprecated. Use tobytes() instead.\n",
      "\u001b[36mjpire2avrs-algo-1-2kyva |\u001b[0m   pickler.file_handle.write(chunk.tostring('C'))\n",
      "\u001b[36mjpire2avrs-algo-1-2kyva |\u001b[0m /miniconda3/lib/python3.7/site-packages/sklearn/externals/joblib/numpy_pickle.py:104: DeprecationWarning: tostring() is deprecated. Use tobytes() instead.\n",
      "\u001b[36mjpire2avrs-algo-1-2kyva |\u001b[0m   pickler.file_handle.write(chunk.tostring('C'))\n",
      "\u001b[36mjpire2avrs-algo-1-2kyva |\u001b[0m /miniconda3/lib/python3.7/site-packages/sklearn/externals/joblib/numpy_pickle.py:104: DeprecationWarning: tostring() is deprecated. Use tobytes() instead.\n",
      "\u001b[36mjpire2avrs-algo-1-2kyva |\u001b[0m   pickler.file_handle.write(chunk.tostring('C'))\n",
      "\u001b[36mjpire2avrs-algo-1-2kyva |\u001b[0m /miniconda3/lib/python3.7/site-packages/sklearn/externals/joblib/numpy_pickle.py:104: DeprecationWarning: tostring() is deprecated. Use tobytes() instead.\n",
      "\u001b[36mjpire2avrs-algo-1-2kyva |\u001b[0m   pickler.file_handle.write(chunk.tostring('C'))\n",
      "\u001b[36mjpire2avrs-algo-1-2kyva |\u001b[0m /miniconda3/lib/python3.7/site-packages/sklearn/externals/joblib/numpy_pickle.py:104: DeprecationWarning: tostring() is deprecated. Use tobytes() instead.\n",
      "\u001b[36mjpire2avrs-algo-1-2kyva |\u001b[0m   pickler.file_handle.write(chunk.tostring('C'))\n",
      "\u001b[36mjpire2avrs-algo-1-2kyva |\u001b[0m /miniconda3/lib/python3.7/site-packages/sklearn/externals/joblib/numpy_pickle.py:104: DeprecationWarning: tostring() is deprecated. Use tobytes() instead.\n",
      "\u001b[36mjpire2avrs-algo-1-2kyva |\u001b[0m   pickler.file_handle.write(chunk.tostring('C'))\n",
      "\u001b[36mjpire2avrs-algo-1-2kyva |\u001b[0m /miniconda3/lib/python3.7/site-packages/sklearn/externals/joblib/numpy_pickle.py:104: DeprecationWarning: tostring() is deprecated. Use tobytes() instead.\n",
      "\u001b[36mjpire2avrs-algo-1-2kyva |\u001b[0m   pickler.file_handle.write(chunk.tostring('C'))\n",
      "\u001b[36mjpire2avrs-algo-1-2kyva |\u001b[0m /miniconda3/lib/python3.7/site-packages/sklearn/externals/joblib/numpy_pickle.py:104: DeprecationWarning: tostring() is deprecated. Use tobytes() instead.\n",
      "\u001b[36mjpire2avrs-algo-1-2kyva |\u001b[0m   pickler.file_handle.write(chunk.tostring('C'))\n",
      "\u001b[36mjpire2avrs-algo-1-2kyva |\u001b[0m /miniconda3/lib/python3.7/site-packages/sklearn/externals/joblib/numpy_pickle.py:104: DeprecationWarning: tostring() is deprecated. Use tobytes() instead.\n",
      "\u001b[36mjpire2avrs-algo-1-2kyva |\u001b[0m   pickler.file_handle.write(chunk.tostring('C'))\n",
      "\u001b[36mjpire2avrs-algo-1-2kyva |\u001b[0m /miniconda3/lib/python3.7/site-packages/sklearn/externals/joblib/numpy_pickle.py:104: DeprecationWarning: tostring() is deprecated. Use tobytes() instead.\n",
      "\u001b[36mjpire2avrs-algo-1-2kyva |\u001b[0m   pickler.file_handle.write(chunk.tostring('C'))\n",
      "\u001b[36mjpire2avrs-algo-1-2kyva |\u001b[0m /miniconda3/lib/python3.7/site-packages/sklearn/externals/joblib/numpy_pickle.py:104: DeprecationWarning: tostring() is deprecated. Use tobytes() instead.\n",
      "\u001b[36mjpire2avrs-algo-1-2kyva |\u001b[0m   pickler.file_handle.write(chunk.tostring('C'))\n",
      "\u001b[36mjpire2avrs-algo-1-2kyva |\u001b[0m /miniconda3/lib/python3.7/site-packages/sklearn/externals/joblib/numpy_pickle.py:104: DeprecationWarning: tostring() is deprecated. Use tobytes() instead.\n",
      "\u001b[36mjpire2avrs-algo-1-2kyva |\u001b[0m   pickler.file_handle.write(chunk.tostring('C'))\n",
      "\u001b[36mjpire2avrs-algo-1-2kyva |\u001b[0m /miniconda3/lib/python3.7/site-packages/sklearn/externals/joblib/numpy_pickle.py:104: DeprecationWarning: tostring() is deprecated. Use tobytes() instead.\n",
      "\u001b[36mjpire2avrs-algo-1-2kyva |\u001b[0m   pickler.file_handle.write(chunk.tostring('C'))\n",
      "\u001b[36mjpire2avrs-algo-1-2kyva |\u001b[0m /miniconda3/lib/python3.7/site-packages/sklearn/externals/joblib/numpy_pickle.py:104: DeprecationWarning: tostring() is deprecated. Use tobytes() instead.\n",
      "\u001b[36mjpire2avrs-algo-1-2kyva |\u001b[0m   pickler.file_handle.write(chunk.tostring('C'))\n",
      "\u001b[36mjpire2avrs-algo-1-2kyva |\u001b[0m /miniconda3/lib/python3.7/site-packages/sklearn/externals/joblib/numpy_pickle.py:104: DeprecationWarning: tostring() is deprecated. Use tobytes() instead.\n",
      "\u001b[36mjpire2avrs-algo-1-2kyva |\u001b[0m   pickler.file_handle.write(chunk.tostring('C'))\n",
      "\u001b[36mjpire2avrs-algo-1-2kyva |\u001b[0m 2021-06-05 07:49:23,460 sagemaker-containers INFO     Reporting training SUCCESS\n",
      "\u001b[36mjpire2avrs-algo-1-2kyva exited with code 0\n",
      "\u001b[0mAborting on container exit...\n",
      "===== Job Complete =====\n"
     ]
    }
   ],
   "source": [
    "estimator.fit({'train': train_input})"
   ]
  },
  {
   "cell_type": "code",
   "execution_count": 18,
   "id": "372cee4a",
   "metadata": {
    "scrolled": true
   },
   "outputs": [
    {
     "name": "stdout",
     "output_type": "stream",
     "text": [
      "Attaching to o5mrokb4pn-algo-1-rcaqn\n",
      "\u001b[36mo5mrokb4pn-algo-1-rcaqn |\u001b[0m Processing /opt/ml/code\n",
      "\u001b[36mo5mrokb4pn-algo-1-rcaqn |\u001b[0m Building wheels for collected packages: sklearn-script\n",
      "\u001b[36mo5mrokb4pn-algo-1-rcaqn |\u001b[0m   Building wheel for sklearn-script (setup.py) ... \u001b[?25ldone\n",
      "\u001b[36mo5mrokb4pn-algo-1-rcaqn |\u001b[0m \u001b[?25h  Created wheel for sklearn-script: filename=sklearn_script-1.0.0-py2.py3-none-any.whl size=3997 sha256=586419e5b12dce87afad2ebe1b04825a05fd45e20391033e2bf49b74635c9b11\n",
      "\u001b[36mo5mrokb4pn-algo-1-rcaqn |\u001b[0m   Stored in directory: /tmp/pip-ephem-wheel-cache-5udbkgmw/wheels/3e/0f/51/2f1df833dd0412c1bc2f5ee56baac195b5be563353d111dca6\n",
      "\u001b[36mo5mrokb4pn-algo-1-rcaqn |\u001b[0m Successfully built sklearn-script\n",
      "\u001b[36mo5mrokb4pn-algo-1-rcaqn |\u001b[0m Installing collected packages: sklearn-script\n",
      "\u001b[36mo5mrokb4pn-algo-1-rcaqn |\u001b[0m Successfully installed sklearn-script-1.0.0\n",
      "\u001b[36mo5mrokb4pn-algo-1-rcaqn |\u001b[0m /miniconda3/lib/python3.7/site-packages/sklearn/externals/joblib/externals/cloudpickle/cloudpickle.py:47: DeprecationWarning: the imp module is deprecated in favour of importlib; see the module's documentation for alternative uses\n",
      "\u001b[36mo5mrokb4pn-algo-1-rcaqn |\u001b[0m   import imp\n",
      "\u001b[36mo5mrokb4pn-algo-1-rcaqn |\u001b[0m 2021/06/05 07:49:38 [crit] 16#16: *1 connect() to unix:/tmp/gunicorn.sock failed (2: No such file or directory) while connecting to upstream, client: 172.18.0.1, server: , request: \"GET /ping HTTP/1.1\", upstream: \"http://unix:/tmp/gunicorn.sock:/ping\", host: \"localhost:8080\"\n",
      "\u001b[36mo5mrokb4pn-algo-1-rcaqn |\u001b[0m 172.18.0.1 - - [05/Jun/2021:07:49:38 +0000] \"GET /ping HTTP/1.1\" 502 182 \"-\" \"python-urllib3/1.26.5\"\n",
      "\u001b[36mo5mrokb4pn-algo-1-rcaqn |\u001b[0m [2021-06-05 07:49:38 +0000] [31] [INFO] Starting gunicorn 20.0.4\n",
      "\u001b[36mo5mrokb4pn-algo-1-rcaqn |\u001b[0m [2021-06-05 07:49:38 +0000] [31] [INFO] Listening at: unix:/tmp/gunicorn.sock (31)\n",
      "\u001b[36mo5mrokb4pn-algo-1-rcaqn |\u001b[0m [2021-06-05 07:49:38 +0000] [31] [INFO] Using worker: gevent\n",
      "\u001b[36mo5mrokb4pn-algo-1-rcaqn |\u001b[0m [2021-06-05 07:49:38 +0000] [34] [INFO] Booting worker with pid: 34\n",
      "\u001b[36mo5mrokb4pn-algo-1-rcaqn |\u001b[0m [2021-06-05 07:49:38 +0000] [35] [INFO] Booting worker with pid: 35\n",
      "\u001b[36mo5mrokb4pn-algo-1-rcaqn |\u001b[0m 2021-06-05 07:49:43,735 INFO - sagemaker-containers - No GPUs detected (normal if no gpus installed)\n",
      "\u001b[36mo5mrokb4pn-algo-1-rcaqn |\u001b[0m /miniconda3/lib/python3.7/site-packages/sklearn/externals/joblib/externals/cloudpickle/cloudpickle.py:47: DeprecationWarning: the imp module is deprecated in favour of importlib; see the module's documentation for alternative uses\n",
      "\u001b[36mo5mrokb4pn-algo-1-rcaqn |\u001b[0m   import imp\n",
      "!\u001b[36mo5mrokb4pn-algo-1-rcaqn |\u001b[0m 172.18.0.1 - - [05/Jun/2021:07:49:44 +0000] \"GET /ping HTTP/1.1\" 200 0 \"-\" \"python-urllib3/1.26.5\"\n"
     ]
    }
   ],
   "source": [
    "predictor = estimator.deploy(initial_instance_count=1, instance_type='local')"
   ]
  },
  {
   "cell_type": "markdown",
   "id": "214e2a29",
   "metadata": {},
   "source": [
    "## Create dataframe for target and predicted values\n",
    "---"
   ]
  },
  {
   "cell_type": "code",
   "execution_count": 19,
   "id": "12c0dfa9",
   "metadata": {},
   "outputs": [
    {
     "name": "stdout",
     "output_type": "stream",
     "text": [
      "<class 'pandas.core.frame.DataFrame'>\n",
      "RangeIndex: 270 entries, 0 to 269\n",
      "Data columns (total 1 columns):\n",
      " #   Column  Non-Null Count  Dtype\n",
      "---  ------  --------------  -----\n",
      " 0   target  270 non-null    int64\n",
      "dtypes: int64(1)\n",
      "memory usage: 2.2 KB\n"
     ]
    }
   ],
   "source": [
    "y_test_vs_pred = pd.DataFrame({'target': df['target'].values})\n",
    "y_test_vs_pred.info()"
   ]
  },
  {
   "cell_type": "code",
   "execution_count": 20,
   "id": "8eba965a",
   "metadata": {},
   "outputs": [
    {
     "name": "stdout",
     "output_type": "stream",
     "text": [
      "\u001b[36mo5mrokb4pn-algo-1-rcaqn |\u001b[0m 2021-06-05 07:50:43,249 INFO - sagemaker-containers - No GPUs detected (normal if no gpus installed)\n",
      "\u001b[36mo5mrokb4pn-algo-1-rcaqn |\u001b[0m /miniconda3/lib/python3.7/site-packages/sklearn/externals/joblib/externals/cloudpickle/cloudpickle.py:47: DeprecationWarning: the imp module is deprecated in favour of importlib; see the module's documentation for alternative uses\n",
      "\u001b[36mo5mrokb4pn-algo-1-rcaqn |\u001b[0m   import imp\n",
      "<class 'pandas.core.frame.DataFrame'>\n",
      "RangeIndex: 270 entries, 0 to 269\n",
      "Data columns (total 2 columns):\n",
      " #   Column       Non-Null Count  Dtype  \n",
      "---  ------       --------------  -----  \n",
      " 0   target       270 non-null    int64  \n",
      " 1   predictions  270 non-null    float64\n",
      "dtypes: float64(1), int64(1)\n",
      "memory usage: 4.3 KB\n",
      "\u001b[36mo5mrokb4pn-algo-1-rcaqn |\u001b[0m 172.18.0.1 - - [05/Jun/2021:07:50:43 +0000] \"POST /invocations HTTP/1.1\" 200 2288 \"-\" \"python-urllib3/1.26.5\"\n"
     ]
    }
   ],
   "source": [
    "payload = df.drop(['target'], axis=1)\n",
    "\n",
    "result = predictor.predict(payload)\n",
    "\n",
    "# Store predictions in dataframe\n",
    "y_test_vs_pred['predictions'] = result\n",
    "y_test_vs_pred.info()"
   ]
  },
  {
   "cell_type": "code",
   "execution_count": 22,
   "id": "5ef56cb7",
   "metadata": {},
   "outputs": [
    {
     "data": {
      "text/html": [
       "<div>\n",
       "<style scoped>\n",
       "    .dataframe tbody tr th:only-of-type {\n",
       "        vertical-align: middle;\n",
       "    }\n",
       "\n",
       "    .dataframe tbody tr th {\n",
       "        vertical-align: top;\n",
       "    }\n",
       "\n",
       "    .dataframe thead th {\n",
       "        text-align: right;\n",
       "    }\n",
       "</style>\n",
       "<table border=\"1\" class=\"dataframe\">\n",
       "  <thead>\n",
       "    <tr style=\"text-align: right;\">\n",
       "      <th></th>\n",
       "      <th>target</th>\n",
       "      <th>predictions</th>\n",
       "    </tr>\n",
       "  </thead>\n",
       "  <tbody>\n",
       "    <tr>\n",
       "      <th>0</th>\n",
       "      <td>151400</td>\n",
       "      <td>151438.52</td>\n",
       "    </tr>\n",
       "    <tr>\n",
       "      <th>1</th>\n",
       "      <td>286000</td>\n",
       "      <td>283424.15</td>\n",
       "    </tr>\n",
       "    <tr>\n",
       "      <th>2</th>\n",
       "      <td>172200</td>\n",
       "      <td>168843.35</td>\n",
       "    </tr>\n",
       "    <tr>\n",
       "      <th>3</th>\n",
       "      <td>141400</td>\n",
       "      <td>148149.95</td>\n",
       "    </tr>\n",
       "    <tr>\n",
       "      <th>4</th>\n",
       "      <td>100800</td>\n",
       "      <td>110505.18</td>\n",
       "    </tr>\n",
       "  </tbody>\n",
       "</table>\n",
       "</div>"
      ],
      "text/plain": [
       "   target  predictions\n",
       "0  151400    151438.52\n",
       "1  286000    283424.15\n",
       "2  172200    168843.35\n",
       "3  141400    148149.95\n",
       "4  100800    110505.18"
      ]
     },
     "execution_count": 22,
     "metadata": {},
     "output_type": "execute_result"
    }
   ],
   "source": [
    "y_test_vs_pred.head()"
   ]
  },
  {
   "cell_type": "code",
   "execution_count": 25,
   "id": "f8671c99",
   "metadata": {},
   "outputs": [
    {
     "name": "stderr",
     "output_type": "stream",
     "text": [
      "/home/ec2-user/anaconda3/envs/python3/lib/python3.6/site-packages/seaborn/_decorators.py:43: FutureWarning: Pass the following variables as keyword args: x, y. From version 0.12, the only valid positional argument will be `data`, and passing other arguments without an explicit keyword will result in an error or misinterpretation.\n",
      "  FutureWarning\n"
     ]
    },
    {
     "data": {
      "text/plain": [
       "Text(0.5, 1.0, '\\nSKLearn model\\nActual vs. Predicted values\\n')"
      ]
     },
     "execution_count": 25,
     "metadata": {},
     "output_type": "execute_result"
    },
    {
     "data": {
      "image/png": "[encoded data removed]",
      "text/plain": [
       "<Figure size 720x576 with 1 Axes>"
      ]
     },
     "metadata": {},
     "output_type": "display_data"
    }
   ],
   "source": [
    "import seaborn as sns\n",
    "import matplotlib.pylab as plt\n",
    "\n",
    "plt.style.use('fivethirtyeight')\n",
    "plt.figure(figsize=(10,8))\n",
    "\n",
    "sns.regplot(y_test_vs_pred['target'], y_test_vs_pred['predictions'], line_kws={'color': 'gold'})\n",
    "\n",
    "plt.xlabel(\"actual values\")\n",
    "plt.ylabel(\"predicted values\")\n",
    "plt.title(\"\\nSKLearn model\\nActual vs. Predicted values\\n\")"
   ]
  },
  {
   "cell_type": "code",
   "execution_count": 23,
   "id": "738c4934",
   "metadata": {},
   "outputs": [
    {
     "name": "stdout",
     "output_type": "stream",
     "text": [
      "Gracefully stopping... (press Ctrl+C again to force)\n",
      "deleted sagemaker-scikit-learn-2021-06-05-07-49-33-351 successfully!\n"
     ]
    }
   ],
   "source": [
    "predictor.delete_endpoint()\n",
    "print(f\"deleted {predictor.endpoint_name} successfully!\")"
   ]
  }
 ],
 "metadata": {
  "kernelspec": {
   "display_name": "conda_python3",
   "language": "python",
   "name": "conda_python3"
  },
  "language_info": {
   "codemirror_mode": {
    "name": "ipython",
    "version": 3
   },
   "file_extension": ".py",
   "mimetype": "text/x-python",
   "name": "python",
   "nbconvert_exporter": "python",
   "pygments_lexer": "ipython3",
   "version": "3.6.13"
  }
 },
 "nbformat": 4,
 "nbformat_minor": 5
}
