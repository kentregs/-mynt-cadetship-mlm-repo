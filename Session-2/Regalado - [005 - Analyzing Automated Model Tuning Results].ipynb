{
 "cells": [
  {
   "cell_type": "code",
   "execution_count": 1,
   "id": "51d72f26",
   "metadata": {},
   "outputs": [],
   "source": [
    "%store -r tuning_job_name"
   ]
  },
  {
   "cell_type": "code",
   "execution_count": 2,
   "id": "61346a19",
   "metadata": {},
   "outputs": [],
   "source": [
    "import pandas as pd\n",
    "from sagemaker import HyperparameterTuningJobAnalytics\n",
    "\n",
    "def latest_df():\n",
    "    analytics = HyperparameterTuningJobAnalytics(tuning_job_name)\n",
    "\n",
    "    return analytics.dataframe()    "
   ]
  },
  {
   "cell_type": "code",
   "execution_count": 7,
   "id": "c340f15b",
   "metadata": {
    "scrolled": true
   },
   "outputs": [
    {
     "data": {
      "text/html": [
       "<div>\n",
       "<style scoped>\n",
       "    .dataframe tbody tr th:only-of-type {\n",
       "        vertical-align: middle;\n",
       "    }\n",
       "\n",
       "    .dataframe tbody tr th {\n",
       "        vertical-align: top;\n",
       "    }\n",
       "\n",
       "    .dataframe thead th {\n",
       "        text-align: right;\n",
       "    }\n",
       "</style>\n",
       "<table border=\"1\" class=\"dataframe\">\n",
       "  <thead>\n",
       "    <tr style=\"text-align: right;\">\n",
       "      <th></th>\n",
       "      <th>l1</th>\n",
       "      <th>learning_rate</th>\n",
       "      <th>mini_batch_size</th>\n",
       "      <th>TrainingJobName</th>\n",
       "      <th>TrainingJobStatus</th>\n",
       "      <th>FinalObjectiveValue</th>\n",
       "      <th>TrainingStartTime</th>\n",
       "      <th>TrainingEndTime</th>\n",
       "      <th>TrainingElapsedTimeSeconds</th>\n",
       "    </tr>\n",
       "  </thead>\n",
       "  <tbody>\n",
       "    <tr>\n",
       "      <th>2</th>\n",
       "      <td>5.779320e-07</td>\n",
       "      <td>0.682758</td>\n",
       "      <td>6.0</td>\n",
       "      <td>linear-learner-210522-0844-004-5dd1908f</td>\n",
       "      <td>Completed</td>\n",
       "      <td>1.737024e+12</td>\n",
       "      <td>2021-05-22 08:51:19+00:00</td>\n",
       "      <td>2021-05-22 08:52:28+00:00</td>\n",
       "      <td>69.0</td>\n",
       "    </tr>\n",
       "    <tr>\n",
       "      <th>1</th>\n",
       "      <td>5.439263e-05</td>\n",
       "      <td>0.000131</td>\n",
       "      <td>6.0</td>\n",
       "      <td>linear-learner-210522-0844-005-a5bbfd79</td>\n",
       "      <td>Completed</td>\n",
       "      <td>5.502044e+11</td>\n",
       "      <td>2021-05-22 08:51:13+00:00</td>\n",
       "      <td>2021-05-22 08:52:21+00:00</td>\n",
       "      <td>68.0</td>\n",
       "    </tr>\n",
       "    <tr>\n",
       "      <th>4</th>\n",
       "      <td>6.608560e-01</td>\n",
       "      <td>0.000457</td>\n",
       "      <td>3.0</td>\n",
       "      <td>linear-learner-210522-0844-002-49547f42</td>\n",
       "      <td>Completed</td>\n",
       "      <td>3.520375e+11</td>\n",
       "      <td>2021-05-22 08:47:22+00:00</td>\n",
       "      <td>2021-05-22 08:48:36+00:00</td>\n",
       "      <td>74.0</td>\n",
       "    </tr>\n",
       "    <tr>\n",
       "      <th>3</th>\n",
       "      <td>1.050165e-02</td>\n",
       "      <td>0.000329</td>\n",
       "      <td>3.0</td>\n",
       "      <td>linear-learner-210522-0844-003-6997c1a6</td>\n",
       "      <td>Completed</td>\n",
       "      <td>2.974686e+11</td>\n",
       "      <td>2021-05-22 08:47:58+00:00</td>\n",
       "      <td>2021-05-22 08:49:12+00:00</td>\n",
       "      <td>74.0</td>\n",
       "    </tr>\n",
       "    <tr>\n",
       "      <th>5</th>\n",
       "      <td>9.003364e-04</td>\n",
       "      <td>0.000726</td>\n",
       "      <td>5.0</td>\n",
       "      <td>linear-learner-210522-0844-001-58beb1c0</td>\n",
       "      <td>Completed</td>\n",
       "      <td>1.223818e+11</td>\n",
       "      <td>2021-05-22 08:47:41+00:00</td>\n",
       "      <td>2021-05-22 08:48:52+00:00</td>\n",
       "      <td>71.0</td>\n",
       "    </tr>\n",
       "    <tr>\n",
       "      <th>0</th>\n",
       "      <td>7.202088e-04</td>\n",
       "      <td>0.001412</td>\n",
       "      <td>6.0</td>\n",
       "      <td>linear-learner-210522-0844-006-6fc7c53c</td>\n",
       "      <td>Completed</td>\n",
       "      <td>3.039039e+10</td>\n",
       "      <td>2021-05-22 08:51:58+00:00</td>\n",
       "      <td>2021-05-22 08:53:22+00:00</td>\n",
       "      <td>84.0</td>\n",
       "    </tr>\n",
       "  </tbody>\n",
       "</table>\n",
       "</div>"
      ],
      "text/plain": [
       "             l1  learning_rate  mini_batch_size  \\\n",
       "2  5.779320e-07       0.682758              6.0   \n",
       "1  5.439263e-05       0.000131              6.0   \n",
       "4  6.608560e-01       0.000457              3.0   \n",
       "3  1.050165e-02       0.000329              3.0   \n",
       "5  9.003364e-04       0.000726              5.0   \n",
       "0  7.202088e-04       0.001412              6.0   \n",
       "\n",
       "                           TrainingJobName TrainingJobStatus  \\\n",
       "2  linear-learner-210522-0844-004-5dd1908f         Completed   \n",
       "1  linear-learner-210522-0844-005-a5bbfd79         Completed   \n",
       "4  linear-learner-210522-0844-002-49547f42         Completed   \n",
       "3  linear-learner-210522-0844-003-6997c1a6         Completed   \n",
       "5  linear-learner-210522-0844-001-58beb1c0         Completed   \n",
       "0  linear-learner-210522-0844-006-6fc7c53c         Completed   \n",
       "\n",
       "   FinalObjectiveValue         TrainingStartTime           TrainingEndTime  \\\n",
       "2         1.737024e+12 2021-05-22 08:51:19+00:00 2021-05-22 08:52:28+00:00   \n",
       "1         5.502044e+11 2021-05-22 08:51:13+00:00 2021-05-22 08:52:21+00:00   \n",
       "4         3.520375e+11 2021-05-22 08:47:22+00:00 2021-05-22 08:48:36+00:00   \n",
       "3         2.974686e+11 2021-05-22 08:47:58+00:00 2021-05-22 08:49:12+00:00   \n",
       "5         1.223818e+11 2021-05-22 08:47:41+00:00 2021-05-22 08:48:52+00:00   \n",
       "0         3.039039e+10 2021-05-22 08:51:58+00:00 2021-05-22 08:53:22+00:00   \n",
       "\n",
       "   TrainingElapsedTimeSeconds  \n",
       "2                        69.0  \n",
       "1                        68.0  \n",
       "4                        74.0  \n",
       "3                        74.0  \n",
       "5                        71.0  \n",
       "0                        84.0  "
      ]
     },
     "execution_count": 7,
     "metadata": {},
     "output_type": "execute_result"
    }
   ],
   "source": [
    "latest_df().sort_values('FinalObjectiveValue', ascending=False)"
   ]
  },
  {
   "cell_type": "code",
   "execution_count": 8,
   "id": "bfe7660c",
   "metadata": {},
   "outputs": [
    {
     "name": "stdout",
     "output_type": "stream",
     "text": [
      "\n",
      "in progress: 0\n",
      "completed: 6\n"
     ]
    }
   ],
   "source": [
    "df = latest_df()\n",
    "print(f'\\nin progress: {len(df[df.TrainingJobStatus == \"InProgress\"])}')\n",
    "print(f'completed: {len(df[df.TrainingJobStatus == \"Completed\"])}')"
   ]
  }
 ],
 "metadata": {
  "kernelspec": {
   "display_name": "conda_python3",
   "language": "python",
   "name": "conda_python3"
  },
  "language_info": {
   "codemirror_mode": {
    "name": "ipython",
    "version": 3
   },
   "file_extension": ".py",
   "mimetype": "text/x-python",
   "name": "python",
   "nbconvert_exporter": "python",
   "pygments_lexer": "ipython3",
   "version": "3.6.13"
  }
 },
 "nbformat": 4,
 "nbformat_minor": 5
}
