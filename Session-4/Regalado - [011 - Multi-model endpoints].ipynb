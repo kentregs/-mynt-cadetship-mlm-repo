{
 "cells": [
  {
   "cell_type": "code",
   "execution_count": 4,
   "id": "c3f34152",
   "metadata": {},
   "outputs": [],
   "source": [
    "from random import choice\n",
    "from string import ascii_lowercase\n",
    "\n",
    "def generate_random_string(length=10):\n",
    "    letters = ascii_lowercase\n",
    "    return ''.join(choice(letters) for i in range(length))"
   ]
  },
  {
   "cell_type": "code",
   "execution_count": 5,
   "id": "9d79810a",
   "metadata": {},
   "outputs": [],
   "source": [
    "s3_bucket = \"apper-training-sagemaker-deployments\"\n",
    "prefix = generate_random_string()"
   ]
  },
  {
   "cell_type": "code",
   "execution_count": 7,
   "id": "622373af",
   "metadata": {},
   "outputs": [],
   "source": [
    "model_a = f\"s3://{s3_bucket}/{prefix}/files/model.xgboost-1.tar.gz\"\n",
    "model_b = f\"s3://{s3_bucket}/{prefix}/files/model.xgboost-2.tar.gz\""
   ]
  },
  {
   "cell_type": "code",
   "execution_count": 8,
   "id": "aa4f30e9",
   "metadata": {},
   "outputs": [
    {
     "name": "stdout",
     "output_type": "stream",
     "text": [
      "upload: files/model.xgboost-1.tar.gz to s3://apper-training-sagemaker-deployments/vfeywdsclu/files/model.xgboost-1.tar.gz\n",
      "upload: files/model.xgboost-2.tar.gz to s3://apper-training-sagemaker-deployments/vfeywdsclu/files/model.xgboost-2.tar.gz\n"
     ]
    }
   ],
   "source": [
    "!aws s3 cp files/model.xgboost-1.tar.gz {model_a}\n",
    "!aws s3 cp files/model.xgboost-2.tar.gz {model_b}"
   ]
  },
  {
   "cell_type": "code",
   "execution_count": 9,
   "id": "34cb4b7f",
   "metadata": {},
   "outputs": [],
   "source": [
    "import sagemaker\n",
    "from sagemaker import get_execution_role\n",
    "\n",
    "session = sagemaker.Session()\n",
    "role = get_execution_role()"
   ]
  },
  {
   "cell_type": "code",
   "execution_count": 10,
   "id": "9a926f8d",
   "metadata": {},
   "outputs": [],
   "source": [
    "from sagemaker.image_uris import retrieve\n",
    "\n",
    "image_uri = retrieve(\"xgboost\", region=\"us-east-1\", version=\"0.90-2\")"
   ]
  },
  {
   "cell_type": "code",
   "execution_count": 13,
   "id": "ad744397",
   "metadata": {},
   "outputs": [],
   "source": [
    "model_data_prefix = f\"s3://{s3_bucket}/{prefix}/artifacts/\""
   ]
  },
  {
   "cell_type": "code",
   "execution_count": 14,
   "id": "e7efeabf",
   "metadata": {},
   "outputs": [],
   "source": [
    "from sagemaker.multidatamodel import MultiDataModel\n",
    "\n",
    "multi_model = MultiDataModel(\n",
    "    name=\"MultiModel\" + generate_random_string(),\n",
    "    model_data_prefix=model_data_prefix, \n",
    "    image_uri=image_uri,\n",
    "    role=role)"
   ]
  },
  {
   "cell_type": "code",
   "execution_count": 15,
   "id": "56d6bf52",
   "metadata": {},
   "outputs": [
    {
     "data": {
      "text/plain": [
       "'s3://apper-training-sagemaker-deployments/vfeywdsclu/artifacts/vfeywdsclu/files/model.xgboost-2.tar.gz'"
      ]
     },
     "execution_count": 15,
     "metadata": {},
     "output_type": "execute_result"
    }
   ],
   "source": [
    "multi_model.add_model(model_a)\n",
    "multi_model.add_model(model_b)"
   ]
  },
  {
   "cell_type": "code",
   "execution_count": 17,
   "id": "fc95b36c",
   "metadata": {},
   "outputs": [
    {
     "data": {
      "text/plain": [
       "['vfeywdsclu/files/model.xgboost-1.tar.gz',\n",
       " 'vfeywdsclu/files/model.xgboost-2.tar.gz']"
      ]
     },
     "execution_count": 17,
     "metadata": {},
     "output_type": "execute_result"
    }
   ],
   "source": [
    "list(multi_model.list_models())"
   ]
  },
  {
   "cell_type": "code",
   "execution_count": 18,
   "id": "606e46d9",
   "metadata": {},
   "outputs": [
    {
     "name": "stdout",
     "output_type": "stream",
     "text": [
      "----------------------!"
     ]
    }
   ],
   "source": [
    "endpoint_name = \"multi-model-endpoint-\" + prefix\n",
    "\n",
    "multi_model.deploy(\n",
    "    initial_instance_count=1, \n",
    "    instance_type='ml.t2.medium', \n",
    "    endpoint_name=endpoint_name)"
   ]
  },
  {
   "cell_type": "code",
   "execution_count": 19,
   "id": "0f6df953",
   "metadata": {},
   "outputs": [],
   "source": [
    "from sagemaker.predictor import Predictor\n",
    "from sagemaker.serializers import CSVSerializer\n",
    "from sagemaker.deserializers import JSONDeserializer"
   ]
  },
  {
   "cell_type": "code",
   "execution_count": 20,
   "id": "aad0af8d",
   "metadata": {},
   "outputs": [],
   "source": [
    "predictor = Predictor(endpoint_name=endpoint_name)\n",
    "predictor.serializer = CSVSerializer()\n",
    "predictor.deserializer = JSONDeserializer()"
   ]
  },
  {
   "cell_type": "code",
   "execution_count": 25,
   "id": "d4e85e0a",
   "metadata": {},
   "outputs": [],
   "source": [
    "a, b = list(multi_model.list_models())"
   ]
  },
  {
   "cell_type": "code",
   "execution_count": 26,
   "id": "6ea0eee7",
   "metadata": {},
   "outputs": [
    {
     "data": {
      "text/plain": [
       "[0.895996630191803]"
      ]
     },
     "execution_count": 26,
     "metadata": {},
     "output_type": "execute_result"
    }
   ],
   "source": [
    "predictor.predict(data=\"10,-5\", target_model=a)"
   ]
  },
  {
   "cell_type": "code",
   "execution_count": 27,
   "id": "911c6e51",
   "metadata": {},
   "outputs": [
    {
     "data": {
      "text/plain": [
       "[0.8308258652687073]"
      ]
     },
     "execution_count": 27,
     "metadata": {},
     "output_type": "execute_result"
    }
   ],
   "source": [
    "predictor.predict(data=\"10,-5\", target_model=b)"
   ]
  },
  {
   "cell_type": "code",
   "execution_count": 28,
   "id": "1662ae83",
   "metadata": {},
   "outputs": [],
   "source": [
    "predictor.delete_endpoint()"
   ]
  }
 ],
 "metadata": {
  "kernelspec": {
   "display_name": "conda_python3",
   "language": "python",
   "name": "conda_python3"
  },
  "language_info": {
   "codemirror_mode": {
    "name": "ipython",
    "version": 3
   },
   "file_extension": ".py",
   "mimetype": "text/x-python",
   "name": "python",
   "nbconvert_exporter": "python",
   "pygments_lexer": "ipython3",
   "version": "3.6.13"
  }
 },
 "nbformat": 4,
 "nbformat_minor": 5
}
