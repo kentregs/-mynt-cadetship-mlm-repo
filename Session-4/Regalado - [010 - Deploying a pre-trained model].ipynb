{
 "cells": [
  {
   "cell_type": "code",
   "execution_count": 4,
   "id": "9f63d393",
   "metadata": {},
   "outputs": [],
   "source": [
    "from random import choice\n",
    "from string import ascii_lowercase\n",
    "\n",
    "def generate_random_string(length=10):\n",
    "    letters = ascii_lowercase\n",
    "    return ''.join(choice(letters) for i in range(length))"
   ]
  },
  {
   "cell_type": "code",
   "execution_count": 8,
   "id": "9554fbb7",
   "metadata": {},
   "outputs": [],
   "source": [
    "s3_bucket = \"apper-training-sagemaker-deployments\"\n",
    "prefix = generate_random_string()"
   ]
  },
  {
   "cell_type": "code",
   "execution_count": 12,
   "id": "66bba569",
   "metadata": {},
   "outputs": [
    {
     "name": "stdout",
     "output_type": "stream",
     "text": [
      "wnrnepkqmn\n"
     ]
    }
   ],
   "source": [
    "print(prefix)"
   ]
  },
  {
   "cell_type": "code",
   "execution_count": 9,
   "id": "6be4d6b8",
   "metadata": {},
   "outputs": [],
   "source": [
    "model_data = f\"s3://{s3_bucket}/{prefix}/files/model.knn.tar.gz\""
   ]
  },
  {
   "cell_type": "code",
   "execution_count": 11,
   "id": "c99f5bf4",
   "metadata": {},
   "outputs": [
    {
     "name": "stdout",
     "output_type": "stream",
     "text": [
      "Completed 764 Bytes/764 Bytes (10.1 KiB/s) with 1 file(s) remaining\r",
      "upload: files/model.knn.tar.gz to s3://apper-training-sagemaker-deployments/wnrnepkqmn/files/model.knn.tar.gz\r\n"
     ]
    }
   ],
   "source": [
    "!aws s3 cp files/model.knn.tar.gz {model_data}"
   ]
  },
  {
   "cell_type": "code",
   "execution_count": 13,
   "id": "e159e99f",
   "metadata": {},
   "outputs": [],
   "source": [
    "from sagemaker import Model\n",
    "from sagemaker import KNNPredictor\n",
    "from sagemaker.image_uris import retrieve"
   ]
  },
  {
   "cell_type": "code",
   "execution_count": 14,
   "id": "7a77b7c9",
   "metadata": {},
   "outputs": [
    {
     "data": {
      "text/plain": [
       "'382416733822.dkr.ecr.us-east-1.amazonaws.com/knn:1'"
      ]
     },
     "execution_count": 14,
     "metadata": {},
     "output_type": "execute_result"
    }
   ],
   "source": [
    "image_uri = retrieve(\"knn\", region=\"us-east-1\")\n",
    "image_uri"
   ]
  },
  {
   "cell_type": "code",
   "execution_count": 15,
   "id": "909da58f",
   "metadata": {},
   "outputs": [],
   "source": [
    "import sagemaker\n",
    "from sagemaker import get_execution_role\n",
    "\n",
    "session = sagemaker.Session()\n",
    "role = get_execution_role()\n",
    "\n",
    "model = Model(model_data=model_data,\n",
    "              image_uri=image_uri,\n",
    "              role=role,\n",
    "              predictor_cls=KNNPredictor)"
   ]
  },
  {
   "cell_type": "code",
   "execution_count": 16,
   "id": "3a3ec924",
   "metadata": {},
   "outputs": [
    {
     "data": {
      "text/plain": [
       "{'model_data': 's3://apper-training-sagemaker-deployments/wnrnepkqmn/files/model.knn.tar.gz',\n",
       " 'image_uri': '382416733822.dkr.ecr.us-east-1.amazonaws.com/knn:1',\n",
       " 'role': 'arn:aws:iam::305262579855:role/service-role/AmazonSageMaker-ExecutionRole-20210507T101941',\n",
       " 'predictor_cls': sagemaker.amazon.knn.KNNPredictor,\n",
       " 'env': {},\n",
       " 'name': None,\n",
       " '_base_name': None,\n",
       " 'vpc_config': None,\n",
       " 'sagemaker_session': None,\n",
       " 'endpoint_name': None,\n",
       " '_is_compiled_model': False,\n",
       " '_compilation_job_name': None,\n",
       " '_is_edge_packaged_model': False,\n",
       " '_enable_network_isolation': False,\n",
       " 'model_kms_key': None,\n",
       " 'image_config': None}"
      ]
     },
     "execution_count": 16,
     "metadata": {},
     "output_type": "execute_result"
    }
   ],
   "source": [
    "model.__dict__"
   ]
  },
  {
   "cell_type": "code",
   "execution_count": 17,
   "id": "ebd4b1af",
   "metadata": {},
   "outputs": [
    {
     "name": "stdout",
     "output_type": "stream",
     "text": [
      "--------------------------!"
     ]
    }
   ],
   "source": [
    "predictor = model.deploy(initial_instance_count=1,\n",
    "                         instance_type='ml.t2.medium')"
   ]
  },
  {
   "cell_type": "code",
   "execution_count": 18,
   "id": "bee9333f",
   "metadata": {},
   "outputs": [
    {
     "data": {
      "text/plain": [
       "[label {\n",
       "   key: \"predicted_label\"\n",
       "   value {\n",
       "     float64_tensor {\n",
       "       values: 1.0\n",
       "     }\n",
       "   }\n",
       " }]"
      ]
     },
     "execution_count": 18,
     "metadata": {},
     "output_type": "execute_result"
    }
   ],
   "source": [
    "import numpy as np\n",
    "\n",
    "test_data = np.array([0.5, 0.5, 0.5, 0.9, 0.9])\n",
    "predictor.predict(test_data)"
   ]
  },
  {
   "cell_type": "code",
   "execution_count": 19,
   "id": "ba39121c",
   "metadata": {},
   "outputs": [],
   "source": [
    "predictor.delete_endpoint()"
   ]
  }
 ],
 "metadata": {
  "kernelspec": {
   "display_name": "conda_python3",
   "language": "python",
   "name": "conda_python3"
  },
  "language_info": {
   "codemirror_mode": {
    "name": "ipython",
    "version": 3
   },
   "file_extension": ".py",
   "mimetype": "text/x-python",
   "name": "python",
   "nbconvert_exporter": "python",
   "pygments_lexer": "ipython3",
   "version": "3.6.13"
  }
 },
 "nbformat": 4,
 "nbformat_minor": 5
}
